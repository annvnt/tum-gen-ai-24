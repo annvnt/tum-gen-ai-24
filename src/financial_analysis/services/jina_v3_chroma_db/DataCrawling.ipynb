{
 "cells": [
  {
   "metadata": {},
   "cell_type": "markdown",
   "source": "# Document types",
   "id": "fcee897d8b32264f"
  },
  {
   "metadata": {},
   "cell_type": "markdown",
   "source": [
    "### 📦 **Sales & Purchase Documents**\n",
    "\n",
    "1. **Invoice** – A bill issued by a seller to request payment from a buyer.\n",
    "2. **Receipt** – Proof of payment received for a transaction.\n",
    "3. **Purchase Order (PO)** – A buyer’s official request to a seller for goods/services.\n",
    "4. **Sales Order** – Confirmation from the seller accepting a customer’s purchase order.\n",
    "5. **Delivery Note** – Document listing items delivered, often signed by the recipient.\n",
    "6. **Credit Note** – Issued to reduce the amount owed by a customer due to returns or errors.\n",
    "7. **Debit Note** – A buyer’s request to reduce the amount payable to a supplier.\n",
    "\n",
    "---\n",
    "\n",
    "### 📘 **Core Accounting Records**\n",
    "\n",
    "8. **Journal Entry** – A record of a financial transaction in the accounting journal.\n",
    "9. **General Ledger** – The master record of all company financial transactions.\n",
    "10. **Trial Balance** – A report that lists all account balances to check for ledger accuracy.\n",
    "11. **Fixed Asset Register** – A record of company-owned assets and their depreciation.\n",
    "\n",
    "---\n",
    "\n",
    "### 📊 **Financial Statements**\n",
    "\n",
    "12. **Balance Sheet** – A financial snapshot showing assets, liabilities, and equity.\n",
    "13. **Income Statement (P\\&L)** – Shows revenues, expenses, and profit/loss over a period.\n",
    "14. **Cash Flow Statement** – Details the inflows and outflows of cash in a business.\n",
    "15. **Financial Statement Notes** – Explanatory notes that provide context to financial statements.\n",
    "16. **Audit Report** – An independent review of financial statements for accuracy and compliance.\n",
    "\n",
    "---\n",
    "\n",
    "### 💼 **Operational Reports**\n",
    "\n",
    "17. **Payroll Record** – Document showing employee wages, taxes, and deductions.\n",
    "18. **Inventory Report** – A list showing quantity and value of items in stock.\n",
    "19. **Budget Report** – Comparison between actual performance and planned budget.\n",
    "20. **Expense Report** – Document submitted to record and justify business expenses.\n",
    "\n",
    "---\n",
    "\n",
    "### 💳 **Receivables & Payables**\n",
    "\n",
    "21. **Accounts Receivable Aging Report** – Lists unpaid customer invoices by due date.\n",
    "22. **Accounts Payable Aging Report** – Lists company’s owed invoices by due date.\n",
    "\n",
    "---\n",
    "\n",
    "### 🏦 **Banking & Tax**\n",
    "\n",
    "23. **Bank Statement** – A summary from the bank showing transactions and balances.\n",
    "24. **Tax Return** – Official report filed with tax authorities showing income and taxes owed.\n",
    "\n",
    "---"
   ],
   "id": "59007ae6a6fa7f0f"
  },
  {
   "metadata": {},
   "cell_type": "markdown",
   "source": "# Libraries",
   "id": "9ebe06a1393352b3"
  },
  {
   "metadata": {},
   "cell_type": "code",
   "source": [
    "from huggingface_hub import list_datasets\n",
    "from datasets import load_dataset\n",
    "import pdfplumber\n",
    "import kagglehub\n",
    "from pathlib import Path\n",
    "import pandas as pd\n",
    "import kagglehub\n",
    "from kaggle.api.kaggle_api_extended import KaggleApi\n",
    "from charset_normalizer import from_path\n",
    "from pathlib import Path\n",
    "import json\n",
    "from IPython.display import JSON, display\n"
   ],
   "id": "e6c54cef36b134bb",
   "outputs": [],
   "execution_count": null
  },
  {
   "metadata": {},
   "cell_type": "markdown",
   "source": "# Q&A service",
   "id": "7fc3c3e0b114644d"
  },
  {
   "metadata": {},
   "cell_type": "markdown",
   "source": "## Data from Hugging Face",
   "id": "3a7ab125a1288551"
  },
  {
   "metadata": {},
   "cell_type": "markdown",
   "source": "### Functions",
   "id": "c9b505323a13bc55"
  },
  {
   "metadata": {},
   "cell_type": "code",
   "source": [
    "def hf_search_by_keyword(keyword):\n",
    "    # Search on Kaggle by keywords\n",
    "    datasets = list_datasets(search=keyword)\n",
    "    # Store dataset references in kaggle_dataset_list\n",
    "    hf_dataset_list = []\n",
    "    for ds in datasets:\n",
    "        hf_dataset_list.append(ds.id)\n",
    "    return hf_dataset_list"
   ],
   "id": "3bab9836d0a91b6e",
   "outputs": [],
   "execution_count": null
  },
  {
   "metadata": {},
   "cell_type": "code",
   "source": [
    "# Define a function to safely load a dataset\n",
    "def safe_load(dataset_id):\n",
    "    try:\n",
    "        dataset = load_dataset(dataset_id)\n",
    "        if not dataset:\n",
    "            print(f\"[!] No dataset found for {dataset_id}\")\n",
    "            return None, None\n",
    "        return list(dataset.keys()), dataset\n",
    "    except Exception as e:\n",
    "        print(f\"[!] Failed to load {dataset_id}: {e}\")\n",
    "        return None, None"
   ],
   "id": "74cfe4004fddaacd",
   "outputs": [],
   "execution_count": null
  },
  {
   "metadata": {},
   "cell_type": "markdown",
   "source": "### Retrieve data",
   "id": "9dd535d50ca3255"
  },
  {
   "metadata": {},
   "cell_type": "code",
   "source": [
    "# Search datasets by keyword\n",
    "dataset_list = hf_search_by_keyword(\"banking chat\")\n",
    "dataset_list"
   ],
   "id": "7c162fe1b49afaf7",
   "outputs": [],
   "execution_count": null
  },
  {
   "metadata": {},
   "cell_type": "code",
   "source": [
    "# Load dataset\n",
    "keys, dataset = safe_load(dataset_list[0])\n",
    "keys, dataset"
   ],
   "id": "e1e0407608a1e60f",
   "outputs": [],
   "execution_count": null
  },
  {
   "metadata": {},
   "cell_type": "code",
   "source": [
    "# View data of the first split in dataset format\n",
    "# dataset[keys[0]]\n",
    "\n",
    "# Turn into dataframe\n",
    "df = dataset[keys[0]].to_pandas()\n",
    "# View dataframe\n",
    "# df.info()\n",
    "# df\n",
    "\n",
    "# Convert to JSON as a Python list of records\n",
    "data_as_json = json.loads(df.to_json(orient=\"records\", force_ascii=False))\n",
    "\n",
    "# Pretty display in Jupyter\n",
    "display(JSON(data_as_json))"
   ],
   "id": "d2f72f55ffd76284",
   "outputs": [],
   "execution_count": null
  },
  {
   "metadata": {},
   "cell_type": "markdown",
   "source": "## Data from Kaggle",
   "id": "855918cee8d958af"
  },
  {
   "metadata": {},
   "cell_type": "markdown",
   "source": "### Functions",
   "id": "85918969ea145508"
  },
  {
   "metadata": {},
   "cell_type": "code",
   "source": [
    "def kaggle_search_by_keyword(keyword):\n",
    "    # Search on Kaggle by keywords\n",
    "    datasets = api.dataset_list(search=keyword)\n",
    "    # Store dataset references in kaggle_dataset_list\n",
    "    kaggle_dataset_list = []\n",
    "    for ds in datasets:\n",
    "        kaggle_dataset_list.append(ds.ref)\n",
    "    return kaggle_dataset_list"
   ],
   "id": "63f7ccc1e48004d0",
   "outputs": [],
   "execution_count": null
  },
  {
   "metadata": {},
   "cell_type": "code",
   "source": [
    "def detect_encoding(file_path):\n",
    "    from charset_normalizer import from_path\n",
    "    result = from_path(str(file_path)).best()\n",
    "    if result is None or result.encoding is None:\n",
    "        print(f\"⚠️ Encoding detection failed for: {file_path}\")\n",
    "        return None\n",
    "    return result.encoding"
   ],
   "id": "a1b81a0899eb7f31",
   "outputs": [],
   "execution_count": null
  },
  {
   "metadata": {},
   "cell_type": "code",
   "source": [
    "# Main function to get all file paths and let user choose how to load them\n",
    "def kaggle_load_file(dataset_id):\n",
    "    # Download the dataset\n",
    "    path = kagglehub.dataset_download(dataset_id)\n",
    "\n",
    "    # List all files in dataset\n",
    "    files = api.dataset_list_files(dataset_id)\n",
    "    if not files.files:\n",
    "        print(f\"[!] No files found in dataset: {dataset_id}\")\n",
    "        return []\n",
    "\n",
    "    # Get full paths to all files\n",
    "    file_paths = [f\"{path}\\\\{f.name}\" for f in files.files]\n",
    "    print(\"📂 Available files:\")\n",
    "    for f in file_paths:\n",
    "        print(f\" - {f}\")\n",
    "\n",
    "    return file_paths"
   ],
   "id": "780153b43fb2b296",
   "outputs": [],
   "execution_count": null
  },
  {
   "metadata": {},
   "cell_type": "code",
   "source": [
    "\n",
    "# Function to read a CSV and return either a DataFrame or JSON\n",
    "def read_csv_file(file_path, output_format=\"json\"):\n",
    "    file_path = Path(file_path).expanduser().resolve()\n",
    "\n",
    "    encoding = detect_encoding(file_path)\n",
    "    if encoding is None:\n",
    "        print(f\"⚠️ Skipping file due to undetectable encoding: {file_path.name}\")\n",
    "        return None\n",
    "\n",
    "    try:\n",
    "        df = pd.read_csv(file_path, encoding=encoding)\n",
    "    except Exception as e:\n",
    "        print(f\"⚠️ Failed to read CSV: {e}\")\n",
    "        return None\n",
    "\n",
    "    if output_format == \"dataframe\":\n",
    "        return df\n",
    "    else:\n",
    "        return json.loads(df.to_json(orient=\"records\", force_ascii=False))"
   ],
   "id": "f48cc279039574ea",
   "outputs": [],
   "execution_count": null
  },
  {
   "metadata": {},
   "cell_type": "markdown",
   "source": "### Retrieve data",
   "id": "5b0984f6603c48ba"
  },
  {
   "metadata": {},
   "cell_type": "code",
   "source": [
    "# Go to Kaggle > Profile > Settings > Account > Create new token > Save the json file to .kaggle folder in your local computer\n",
    "api = KaggleApi()\n",
    "api.authenticate()"
   ],
   "id": "b8508db3d89f9947",
   "outputs": [],
   "execution_count": null
  },
  {
   "metadata": {},
   "cell_type": "code",
   "source": [
    "# Call function, Input parameter is the keyword that you want to search for\n",
    "kaggle_dataset_list = kaggle_search_by_keyword(\"banking chat\")\n",
    "kaggle_dataset_list"
   ],
   "id": "b54f8daa058531f0",
   "outputs": [],
   "execution_count": null
  },
  {
   "metadata": {},
   "cell_type": "code",
   "source": [
    "# View dataset files\n",
    "# Function parameters: dataset ID and encoding type\n",
    "for i in kaggle_dataset_list[0:4]:\n",
    "    kaggle_load_file(i)"
   ],
   "id": "46add7532f312470",
   "outputs": [],
   "execution_count": null
  },
  {
   "metadata": {},
   "cell_type": "code",
   "source": [
    "# To get only 1 dataset\n",
    "files = kaggle_load_file(kaggle_dataset_list[0])\n",
    "\n",
    "# Read from all files\n",
    "# for file in files:j\n",
    "#     output = read_csv_file(file, output_format=\"json\")  # or \"dataframe\"\n",
    "#     print(output)\n",
    "\n",
    "# Read a single file\n",
    "data_as_json= read_csv_file(files[0], output_format=\"json\")\n",
    "\n",
    "# Pretty display in Jupyter\n",
    "display(JSON(data_as_json))"
   ],
   "id": "994fc5a9cdc0e69a",
   "outputs": [],
   "execution_count": null
  },
  {
   "metadata": {},
   "cell_type": "markdown",
   "source": "# Report Generation",
   "id": "ee1302a20c66d009"
  },
  {
   "metadata": {},
   "cell_type": "markdown",
   "source": "## Data from Kaggle",
   "id": "6f60374d2142ad1"
  },
  {
   "metadata": {},
   "cell_type": "code",
   "source": [
    "# Go to Kaggle > Profile > Settings > Account > Create new token > Save the json file to .kaggle folder in your local computer\n",
    "api = KaggleApi()\n",
    "api.authenticate()"
   ],
   "id": "fb05e61ec09e4193",
   "outputs": [],
   "execution_count": null
  },
  {
   "metadata": {},
   "cell_type": "code",
   "source": [
    "# Call function, Input parameter is the keyword that you want to search for\n",
    "# Call function, Input parameter is the keyword that you want to search for\n",
    "kaggle_dataset_list = kaggle_search_by_keyword(\"general ledger\")\n",
    "kaggle_dataset_list"
   ],
   "id": "94b79e830a0089e8",
   "outputs": [],
   "execution_count": null
  },
  {
   "metadata": {},
   "cell_type": "code",
   "source": [
    "# View dataset files\n",
    "# Function parameters: dataset ID and encoding type\n",
    "for i in kaggle_dataset_list[:]:\n",
    "    kaggle_load_file(i)"
   ],
   "id": "6010f1bfb85e260f",
   "outputs": [],
   "execution_count": null
  },
  {
   "metadata": {},
   "cell_type": "code",
   "source": [
    "# To get only 1 dataset\n",
    "files = kaggle_load_file(kaggle_dataset_list[1])\n",
    "\n",
    "# Read from all files\n",
    "# for file in files:j\n",
    "#     output = read_csv_file(file, output_format=\"json\")  # or \"dataframe\"\n",
    "#     print(output)\n",
    "\n",
    "# Read a single file\n",
    "read_csv_file(files[0], output_format=\"dataframe\")"
   ],
   "id": "4c6ec4b71d622ed2",
   "outputs": [],
   "execution_count": null
  },
  {
   "metadata": {},
   "cell_type": "markdown",
   "source": [
    "## Data from Hugging Face\n",
    "https://huggingface.co/datasets?sort=trending&search=accounting"
   ],
   "id": "7f1013e778703fe5"
  },
  {
   "metadata": {},
   "cell_type": "code",
   "source": [
    "dataset_list = hf_search_by_keyword('accounting')\n",
    "dataset_list"
   ],
   "id": "d114d1f939c8de49",
   "outputs": [],
   "execution_count": null
  },
  {
   "metadata": {},
   "cell_type": "code",
   "source": [
    "# Load dataset\n",
    "keys, dataset = safe_load(dataset_list[0])\n",
    "keys, dataset"
   ],
   "id": "44d5f82b0f07f7a7",
   "outputs": [],
   "execution_count": null
  },
  {
   "metadata": {},
   "cell_type": "code",
   "source": [
    "# View data of the first split in dataset format\n",
    "# dataset[keys[0]]\n",
    "\n",
    "# Turn into dataframe\n",
    "df = dataset[keys[0]].to_pandas()\n",
    "# View dataframe\n",
    "# df.info()\n",
    "# df\n",
    "\n",
    "# Convert to JSON as a Python list of records\n",
    "data_as_json = json.loads(df.to_json(orient=\"records\", force_ascii=False))\n",
    "\n",
    "# Pretty display in Jupyter\n",
    "display(JSON(data_as_json))"
   ],
   "id": "9e23f8d2dc0cca7b",
   "outputs": [],
   "execution_count": null
  },
  {
   "metadata": {},
   "cell_type": "markdown",
   "source": "Example for Bank statement keyword",
   "id": "779837a6f0452da7"
  },
  {
   "metadata": {},
   "cell_type": "code",
   "source": [
    "dataset_list = hf_search_by_keyword('bank statement')\n",
    "dataset_list"
   ],
   "id": "df94d6f87d35efca",
   "outputs": [],
   "execution_count": null
  },
  {
   "metadata": {},
   "cell_type": "code",
   "source": [
    "\n",
    "# Load dataset\n",
    "keys, dataset = safe_load(dataset_list[0])\n",
    "\n",
    "# View data of the first split in dataset format\n",
    "# dataset[keys[0]]\n",
    "\n",
    "# Turn into dataframe\n",
    "df = dataset[keys[0]].to_pandas()\n",
    "# View dataframe\n",
    "# df.info()\n",
    "# df\n",
    "\n",
    "# Convert to JSON as a Python list of records\n",
    "data_as_json = json.loads(df.to_json(orient=\"records\", force_ascii=False))\n",
    "\n",
    "# Pretty display in Jupyter\n",
    "display(JSON(data_as_json))"
   ],
   "id": "a34485cdf86af6d9",
   "outputs": [],
   "execution_count": null
  }
 ],
 "metadata": {},
 "nbformat": 4,
 "nbformat_minor": 5
}
