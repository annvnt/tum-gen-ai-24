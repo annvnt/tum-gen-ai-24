{
  "cells": [
    {
      "cell_type": "code",
      "execution_count": 2,
      "id": "0TqCQsctxY78",
      "metadata": {
        "colab": {
          "base_uri": "https://localhost:8080/"
        },
        "id": "0TqCQsctxY78",
        "outputId": "132e0736-23d9-4aab-e45b-b05d1bcd34dd"
      },
      "outputs": [
        {
          "name": "stdout",
          "output_type": "stream",
          "text": [
            "Collecting python-dotenv\n",
            "  Downloading python_dotenv-1.1.0-py3-none-any.whl.metadata (24 kB)\n",
            "Downloading python_dotenv-1.1.0-py3-none-any.whl (20 kB)\n",
            "Installing collected packages: python-dotenv\n",
            "Successfully installed python-dotenv-1.1.0\n"
          ]
        }
      ],
      "source": [
        "%pip install python-dotenv"
      ]
    },
    {
      "cell_type": "code",
      "execution_count": 3,
      "id": "QuJt-qSzrQPD",
      "metadata": {
        "colab": {
          "base_uri": "https://localhost:8080/"
        },
        "id": "QuJt-qSzrQPD",
        "outputId": "bc963dfa-5e1c-4ad8-b26a-b5c2526a24a2"
      },
      "outputs": [
        {
          "name": "stdout",
          "output_type": "stream",
          "text": [
            "Collecting xlsxwriter\n",
            "  Downloading xlsxwriter-3.2.5-py3-none-any.whl.metadata (2.7 kB)\n",
            "Downloading xlsxwriter-3.2.5-py3-none-any.whl (172 kB)\n",
            "\u001b[?25l   \u001b[90m━━━━━━━━━━━━━━━━━━━━━━━━━━━━━━━━━━━━━━━━\u001b[0m \u001b[32m0.0/172.3 kB\u001b[0m \u001b[31m?\u001b[0m eta \u001b[36m-:--:--\u001b[0m\r\u001b[2K   \u001b[90m━━━━━━━━━━━━━━━━━━━━━━━━━━━━━━━━━━━━━━━━\u001b[0m \u001b[32m172.3/172.3 kB\u001b[0m \u001b[31m13.4 MB/s\u001b[0m eta \u001b[36m0:00:00\u001b[0m\n",
            "\u001b[?25hInstalling collected packages: xlsxwriter\n",
            "Successfully installed xlsxwriter-3.2.5\n"
          ]
        }
      ],
      "source": [
        "%pip install xlsxwriter"
      ]
    },
    {
      "cell_type": "code",
      "execution_count": 4,
      "id": "kf_Qw9X2FIbu",
      "metadata": {
        "id": "kf_Qw9X2FIbu"
      },
      "outputs": [],
      "source": [
        "import openai\n",
        "from openai import OpenAI\n",
        "import os\n",
        "from dotenv import load_dotenv"
      ]
    },
    {
      "cell_type": "code",
      "execution_count": null,
      "id": "eJMEv-VExB8x",
      "metadata": {
        "colab": {
          "base_uri": "https://localhost:8080/"
        },
        "id": "eJMEv-VExB8x",
        "outputId": "9706a25a-ce90-475d-89ce-cf5e123f9eba"
      },
      "outputs": [],
      "source": [
        "# Load biến môi trường từ file .env\n",
        "load_dotenv()\n",
        "\n",
        "# Lấy giá trị biến API_KEY\n",
        "openai.api_key = os.getenv(\"API_KEY\")\n",
        "\n",
        "print(\"API Key:\", openai.api_key)"
      ]
    },
    {
      "cell_type": "code",
      "execution_count": 6,
      "id": "idNVRsGNGeOY",
      "metadata": {
        "id": "idNVRsGNGeOY"
      },
      "outputs": [],
      "source": [
        "client = OpenAI(api_key=openai.api_key)"
      ]
    },
    {
      "cell_type": "code",
      "execution_count": 7,
      "id": "kN0VXrvGFW8c",
      "metadata": {
        "id": "kN0VXrvGFW8c"
      },
      "outputs": [],
      "source": [
        "import pandas as pd\n",
        "from google.colab import files"
      ]
    },
    {
      "cell_type": "code",
      "execution_count": 8,
      "id": "2CpuceEoFYsr",
      "metadata": {
        "colab": {
          "base_uri": "https://localhost:8080/",
          "height": 74
        },
        "id": "2CpuceEoFYsr",
        "outputId": "df6f5b96-83db-40d2-aca7-f0f35b7ed8fd"
      },
      "outputs": [
        {
          "data": {
            "text/html": [
              "\n",
              "     <input type=\"file\" id=\"files-deb939ab-98ef-41b4-b235-98b040c4eb90\" name=\"files[]\" multiple disabled\n",
              "        style=\"border:none\" />\n",
              "     <output id=\"result-deb939ab-98ef-41b4-b235-98b040c4eb90\">\n",
              "      Upload widget is only available when the cell has been executed in the\n",
              "      current browser session. Please rerun this cell to enable.\n",
              "      </output>\n",
              "      <script>// Copyright 2017 Google LLC\n",
              "//\n",
              "// Licensed under the Apache License, Version 2.0 (the \"License\");\n",
              "// you may not use this file except in compliance with the License.\n",
              "// You may obtain a copy of the License at\n",
              "//\n",
              "//      http://www.apache.org/licenses/LICENSE-2.0\n",
              "//\n",
              "// Unless required by applicable law or agreed to in writing, software\n",
              "// distributed under the License is distributed on an \"AS IS\" BASIS,\n",
              "// WITHOUT WARRANTIES OR CONDITIONS OF ANY KIND, either express or implied.\n",
              "// See the License for the specific language governing permissions and\n",
              "// limitations under the License.\n",
              "\n",
              "/**\n",
              " * @fileoverview Helpers for google.colab Python module.\n",
              " */\n",
              "(function(scope) {\n",
              "function span(text, styleAttributes = {}) {\n",
              "  const element = document.createElement('span');\n",
              "  element.textContent = text;\n",
              "  for (const key of Object.keys(styleAttributes)) {\n",
              "    element.style[key] = styleAttributes[key];\n",
              "  }\n",
              "  return element;\n",
              "}\n",
              "\n",
              "// Max number of bytes which will be uploaded at a time.\n",
              "const MAX_PAYLOAD_SIZE = 100 * 1024;\n",
              "\n",
              "function _uploadFiles(inputId, outputId) {\n",
              "  const steps = uploadFilesStep(inputId, outputId);\n",
              "  const outputElement = document.getElementById(outputId);\n",
              "  // Cache steps on the outputElement to make it available for the next call\n",
              "  // to uploadFilesContinue from Python.\n",
              "  outputElement.steps = steps;\n",
              "\n",
              "  return _uploadFilesContinue(outputId);\n",
              "}\n",
              "\n",
              "// This is roughly an async generator (not supported in the browser yet),\n",
              "// where there are multiple asynchronous steps and the Python side is going\n",
              "// to poll for completion of each step.\n",
              "// This uses a Promise to block the python side on completion of each step,\n",
              "// then passes the result of the previous step as the input to the next step.\n",
              "function _uploadFilesContinue(outputId) {\n",
              "  const outputElement = document.getElementById(outputId);\n",
              "  const steps = outputElement.steps;\n",
              "\n",
              "  const next = steps.next(outputElement.lastPromiseValue);\n",
              "  return Promise.resolve(next.value.promise).then((value) => {\n",
              "    // Cache the last promise value to make it available to the next\n",
              "    // step of the generator.\n",
              "    outputElement.lastPromiseValue = value;\n",
              "    return next.value.response;\n",
              "  });\n",
              "}\n",
              "\n",
              "/**\n",
              " * Generator function which is called between each async step of the upload\n",
              " * process.\n",
              " * @param {string} inputId Element ID of the input file picker element.\n",
              " * @param {string} outputId Element ID of the output display.\n",
              " * @return {!Iterable<!Object>} Iterable of next steps.\n",
              " */\n",
              "function* uploadFilesStep(inputId, outputId) {\n",
              "  const inputElement = document.getElementById(inputId);\n",
              "  inputElement.disabled = false;\n",
              "\n",
              "  const outputElement = document.getElementById(outputId);\n",
              "  outputElement.innerHTML = '';\n",
              "\n",
              "  const pickedPromise = new Promise((resolve) => {\n",
              "    inputElement.addEventListener('change', (e) => {\n",
              "      resolve(e.target.files);\n",
              "    });\n",
              "  });\n",
              "\n",
              "  const cancel = document.createElement('button');\n",
              "  inputElement.parentElement.appendChild(cancel);\n",
              "  cancel.textContent = 'Cancel upload';\n",
              "  const cancelPromise = new Promise((resolve) => {\n",
              "    cancel.onclick = () => {\n",
              "      resolve(null);\n",
              "    };\n",
              "  });\n",
              "\n",
              "  // Wait for the user to pick the files.\n",
              "  const files = yield {\n",
              "    promise: Promise.race([pickedPromise, cancelPromise]),\n",
              "    response: {\n",
              "      action: 'starting',\n",
              "    }\n",
              "  };\n",
              "\n",
              "  cancel.remove();\n",
              "\n",
              "  // Disable the input element since further picks are not allowed.\n",
              "  inputElement.disabled = true;\n",
              "\n",
              "  if (!files) {\n",
              "    return {\n",
              "      response: {\n",
              "        action: 'complete',\n",
              "      }\n",
              "    };\n",
              "  }\n",
              "\n",
              "  for (const file of files) {\n",
              "    const li = document.createElement('li');\n",
              "    li.append(span(file.name, {fontWeight: 'bold'}));\n",
              "    li.append(span(\n",
              "        `(${file.type || 'n/a'}) - ${file.size} bytes, ` +\n",
              "        `last modified: ${\n",
              "            file.lastModifiedDate ? file.lastModifiedDate.toLocaleDateString() :\n",
              "                                    'n/a'} - `));\n",
              "    const percent = span('0% done');\n",
              "    li.appendChild(percent);\n",
              "\n",
              "    outputElement.appendChild(li);\n",
              "\n",
              "    const fileDataPromise = new Promise((resolve) => {\n",
              "      const reader = new FileReader();\n",
              "      reader.onload = (e) => {\n",
              "        resolve(e.target.result);\n",
              "      };\n",
              "      reader.readAsArrayBuffer(file);\n",
              "    });\n",
              "    // Wait for the data to be ready.\n",
              "    let fileData = yield {\n",
              "      promise: fileDataPromise,\n",
              "      response: {\n",
              "        action: 'continue',\n",
              "      }\n",
              "    };\n",
              "\n",
              "    // Use a chunked sending to avoid message size limits. See b/62115660.\n",
              "    let position = 0;\n",
              "    do {\n",
              "      const length = Math.min(fileData.byteLength - position, MAX_PAYLOAD_SIZE);\n",
              "      const chunk = new Uint8Array(fileData, position, length);\n",
              "      position += length;\n",
              "\n",
              "      const base64 = btoa(String.fromCharCode.apply(null, chunk));\n",
              "      yield {\n",
              "        response: {\n",
              "          action: 'append',\n",
              "          file: file.name,\n",
              "          data: base64,\n",
              "        },\n",
              "      };\n",
              "\n",
              "      let percentDone = fileData.byteLength === 0 ?\n",
              "          100 :\n",
              "          Math.round((position / fileData.byteLength) * 100);\n",
              "      percent.textContent = `${percentDone}% done`;\n",
              "\n",
              "    } while (position < fileData.byteLength);\n",
              "  }\n",
              "\n",
              "  // All done.\n",
              "  yield {\n",
              "    response: {\n",
              "      action: 'complete',\n",
              "    }\n",
              "  };\n",
              "}\n",
              "\n",
              "scope.google = scope.google || {};\n",
              "scope.google.colab = scope.google.colab || {};\n",
              "scope.google.colab._files = {\n",
              "  _uploadFiles,\n",
              "  _uploadFilesContinue,\n",
              "};\n",
              "})(self);\n",
              "</script> "
            ],
            "text/plain": [
              "<IPython.core.display.HTML object>"
            ]
          },
          "metadata": {},
          "output_type": "display_data"
        },
        {
          "name": "stdout",
          "output_type": "stream",
          "text": [
            "Saving draft -  Financials 2024.xlsx to draft -  Financials 2024 (1).xlsx\n"
          ]
        }
      ],
      "source": [
        "uploaded = files.upload()  # Tải lên file Excel"
      ]
    },
    {
      "cell_type": "code",
      "execution_count": 9,
      "id": "efQXRrAcFicF",
      "metadata": {
        "id": "efQXRrAcFicF"
      },
      "outputs": [],
      "source": [
        "file_name = list(uploaded.keys())[0]\n",
        "df = pd.read_excel(file_name, header=None)\n",
        "# df.head(10\n",
        "\n",
        "mask = df.apply(lambda row: row.astype(str).str.lower().str.contains(\"code\").any(), axis=1)\n",
        "matches = df[mask]"
      ]
    },
    {
      "cell_type": "code",
      "execution_count": 10,
      "id": "eMDN-tR-cjvT",
      "metadata": {
        "id": "eMDN-tR-cjvT"
      },
      "outputs": [],
      "source": [
        "start_index = matches.index[0]\n",
        "df_from_code = df.iloc[start_index:].reset_index(drop=True)\n",
        "\n",
        "# Đặt dòng đầu tiên là header\n",
        "df_from_code.columns = df_from_code.iloc[0]\n",
        "df_from_code = df_from_code[1:].reset_index(drop=True)"
      ]
    },
    {
      "cell_type": "code",
      "execution_count": 11,
      "id": "0A9O670FoFV8",
      "metadata": {
        "id": "0A9O670FoFV8"
      },
      "outputs": [],
      "source": [
        "indicator = pd.read_excel(\"full_financial_indicators.xlsx\")"
      ]
    },
    {
      "cell_type": "code",
      "execution_count": 12,
      "id": "neja8wGfoXTM",
      "metadata": {
        "id": "neja8wGfoXTM"
      },
      "outputs": [],
      "source": [
        "balance_items = indicator['Balance Sheet'].dropna().tolist()\n",
        "balance_str = \"\\n\".join(f\"- {item}\" for item in balance_items)"
      ]
    },
    {
      "cell_type": "code",
      "execution_count": 13,
      "id": "EIMZHbDEofEE",
      "metadata": {
        "id": "EIMZHbDEofEE"
      },
      "outputs": [],
      "source": [
        "income_items = indicator['Income Statement'].dropna().tolist()\n",
        "income_str = \"\\n\".join(f\"- {item}\" for item in income_items)"
      ]
    },
    {
      "cell_type": "code",
      "execution_count": 14,
      "id": "a0ZSTgl8oi6x",
      "metadata": {
        "id": "a0ZSTgl8oi6x"
      },
      "outputs": [],
      "source": [
        "cf_items = indicator['Cash Flow Statement'].dropna().tolist()\n",
        "cf_str = \"\\n\".join(f\"- {item}\" for item in cf_items)"
      ]
    },
    {
      "cell_type": "code",
      "execution_count": null,
      "id": "KdT_CLEXFyXP",
      "metadata": {
        "id": "KdT_CLEXFyXP"
      },
      "outputs": [],
      "source": [
        "## 4. Tạo Prompt từ bảng dữ liệu\n",
        "def generate_prompt_from_df(df):\n",
        "    table_str = df.to_string(index=False)\n",
        "    prompt = f\"\"\"\n",
        "    You are a financial analyst. Below is a table of daily financial data:\n",
        "\n",
        "    {table_str}\n",
        "\n",
        "    Please:\n",
        "    1. Generate a **professional financial summary report** based on this data according to Vietnamese accounting standard Circular 200/2014/TT-BTC.\n",
        "    2. Include key sections in the report: Revenue, Costs, Profit, and meaningful comments.\n",
        "    3. Additionally, output a **clean and concise Excel-style table** (with headers) containing only the **main financial indicators**, such as:\n",
        "      - Total Revenue\n",
        "      - Total Cost of Goods Sold\n",
        "      - Total Operating Expenses\n",
        "      - Total Net Profit\n",
        "\n",
        "    The output should contain two parts:\n",
        "    - A human-readable report summary\n",
        "    - A clearly formatted financial summary table, ready to export to Excel\n",
        "\n",
        "    Use professional English.\n",
        "    \"\"\"\n",
        "    return prompt"
      ]
    },
    {
      "cell_type": "code",
      "execution_count": 20,
      "id": "e50dIZt5fn6U",
      "metadata": {
        "id": "e50dIZt5fn6U"
      },
      "outputs": [],
      "source": [
        "def generate_prompt_from_df(df):\n",
        "    table_str = df.to_string(index=False)\n",
        "    prompt = f\"\"\"\n",
        "    You are a financial analyst. Below is a table of daily financial data, which contains two key columns representing financial figures for two years.\n",
        "    The columns may have names such as \"2023\" and \"2024\", or \"Last Year\" and \"Current Year\", or similar variants.\n",
        "\n",
        "    {table_str}\n",
        "\n",
        "    Below is a list of financial indicators that belong to the Balance Sheet section:\n",
        "\n",
        "    Balance Sheet Indicators:\n",
        "    {balance_str}\n",
        "\n",
        "    Income Statement Indicators:\n",
        "    {income_str}\n",
        "\n",
        "    Cash Flow Statement Indicators:\n",
        "    {cf_str}\n",
        "\n",
        "    Please:\n",
        "\n",
        "    1. Automatically detect and use the two columns that represent the two years (previous year and current year) to extract numeric data for all calculations.\n",
        "\n",
        "    2. Calculate all main financial indicators for both years based on these two columns.\n",
        "\n",
        "    3. Organize the financial indicators into three separate, clean Excel-style tables:\n",
        "    Each table must begin with a heading in the following format:\n",
        "     #### Balance Sheet Table\n",
        "     #### Income Statement Table\n",
        "     #### Cash Flow Statement Table\n",
        "\n",
        "    4. Each table must include two columns with numeric values: one for the current year and one for the previous year, enabling year-over-year comparison.\n",
        "\n",
        "    5. Generate a professional, human-readable financial summary report in English that highlights:\n",
        "      - Key revenue figures\n",
        "      - Cost and expense analysis\n",
        "      - Profitability overview\n",
        "      - Cash flow performance\n",
        "      - Meaningful comments on significant changes between the two years, based strictly on the numeric data from the two year columns\n",
        "\n",
        "    6. Avoid including qualitative or vague comments inside the tables—only present numeric financial figures.\n",
        "\n",
        "    7. Output two parts:\n",
        "      - A concise, professional financial summary report in English\n",
        "      - Three clearly formatted Excel-style tables with numeric data for both years side-by-side, ready for export\n",
        "\n",
        "    Use professional English.\n",
        "    \"\"\"\n",
        "    return prompt"
      ]
    },
    {
      "cell_type": "code",
      "execution_count": 21,
      "id": "wJUSdRfAF9eG",
      "metadata": {
        "colab": {
          "base_uri": "https://localhost:8080/"
        },
        "id": "wJUSdRfAF9eG",
        "outputId": "e04c82f3-f9f7-4d4e-d828-f7b3e1969a00"
      },
      "outputs": [
        {
          "name": "stdout",
          "output_type": "stream",
          "text": [
            "\n",
            "    You are a financial analyst. Below is a table of daily financial data, which contains two key columns representing financial figures for two years.\n",
            "    The columns may have names such as \"2023\" and \"2024\", or \"Last Year\" and \"Current Year\", or similar variants.\n",
            "\n",
            "                  Code                       Description                 Grouping                        Main Group Opening Balance       Debit      Credit  Difference Closing Balance 2024  NaN Closing Balance 2023\n",
            "            Assets                               NaN                       NaN                              NaN             NaN         NaN         NaN         NaN                  NaN  NaN                  NaN\n",
            "             11046 CASHIER FLOAT - GRAND BEIRUT EXPO             Cash In hand                             Cash             1000           0           0           0                 1000  NaN                 1000\n",
            "             12302            INTER CO ACCTS  REC. -     Inter Company balance                       RP - Inter     10711454.12  1276151.85           0  1276151.85          11987605.97  NaN          10711454.12\n",
            "             16427     FURNITURE & FIXTURES & EQUIP.              Fixed Assets                              PPE               0        4950           0        4950                 4950  NaN                  NaN\n",
            "             16799     ACC DEP FURNITURE/EQUIP OTHER              Fixed Assets                              PPE      -782608.57           0   350277.36  -350277.36          -1132885.93  NaN           -782608.57\n",
            "             17285                   PROJECT- COST -              Fixed Assets                              PPE      3494523.92           0           0           0           3494523.92  NaN           3494523.92\n",
            "               NaN                      Assets Total                       NaN                              NaN     13424369.47  1281101.85   350277.36   930824.49          14355193.96  NaN          13424369.47\n",
            "Equity & Liability                               NaN                       NaN                              NaN             NaN         NaN         NaN         NaN                  NaN  NaN                  NaN\n",
            "             25102        INTER CO ACCTS  PAYABLE -      Inter Company balance                       RP - Inter    -10979515.78           0  1464376.37 -1464376.37         -12443892.15  NaN         -10979515.78\n",
            "             26101         ACCUMULATED PROFIT/(LOSS)                   Equity                           Equity      -2444853.69           0           0           0          -2444853.69  NaN          -2741596.38\n",
            "               NaN          Equity & Liability Total                       NaN                              NaN    -13424369.47           0  1464376.37 -1464376.37         -14888745.84  NaN          13721112.16\n",
            "            Income                               NaN                       NaN                              NaN             NaN         NaN         NaN         NaN                  NaN  NaN                  NaN\n",
            "             42101                      FOOD REVENUE                     Sales                    Food Revenue                0       14315  1197602.83 -1183287.83          -1183287.83  NaN          -1606930.44\n",
            "             42103           BEV REVENUE - ALCOHOLIC                     Sales                Beverage Revenue                0       30.48       30.48           0                    0  NaN            -18833.33\n",
            "             42105       BEV REVENUE - NON ALCOHOLIC                     Sales                Beverage Revenue                0           0    130303.9   -130303.9            -130303.9  NaN           -165679.88\n",
            "             42196       FOOD DISCOUNTS & ALLOWANCES                     Sales           Discount & Allowances                0    34701.98           0    34701.98             34701.98  NaN             59597.08\n",
            "             42197        BEV DISCOUNTS & ALLOWANCES                     Sales           Discount & Allowances                0     4199.57           0     4199.57              4199.57  NaN              5623.43\n",
            "             42199                F&B SUNDRY - OTHER                     Sales                     Other Income               0       44.05     1505.72    -1461.67             -1461.67  NaN              -922.47\n",
            "               NaN                      Income Total                       NaN                              NaN               0    53291.08  1329442.93 -1276151.85          -1276151.85  NaN          -1727145.61\n",
            "           Expense                               NaN                       NaN                              NaN             NaN         NaN         NaN         NaN                  NaN  NaN                  NaN\n",
            "             52101                          COS FOOD        Cost of good sold                     Raw Material                0   699745.35   346021.42   353723.93            353723.93  NaN            405977.51\n",
            "             52110            COS BEVERAGE ALCOHOLIC        Cost of good sold                     Raw Material              NaN         NaN         NaN         NaN                    0  NaN               5559.4\n",
            "             52111        COS BEVERAGE NON ALCOHOLIC        Cost of good sold                     Raw Material                0    98624.91    85200.51     13424.4              13424.4  NaN             17536.39\n",
            "             52118    COS BEVERAGE CREDIT NON ALCOHL        Cost of good sold                     Raw Material              NaN         NaN         NaN         NaN                    0  NaN                 4.39\n",
            "             61101          SALARIES & WAGES - BASIC        Cost of good sold                     Employee Cost               0   240664.85           0   240664.85            240664.85  NaN            224893.95\n",
            "             61102         SALARIES & WAGES - OTHERS Wages & Employee benefits                    Employee Cost               0   249963.69       75500   174463.69            174463.69  NaN            244587.19\n",
            "             61103                          OVERTIME Wages & Employee benefits                    Employee Cost               0       98.63           0       98.63                98.63  NaN               197.26\n",
            "             61104                      LEAVE SALARY Wages & Employee benefits                    Employee Cost               0    36673.39           0    36673.39             36673.39  NaN             36509.52\n",
            "             61105                 BONUS & INCENTIVE Wages & Employee benefits                    Employee Cost               0     2750.04           0     2750.04              2750.04  NaN                 6000\n",
            "             62101                  EMPLOYEE HOUSING Wages & Employee benefits                    Employee Cost             NaN         NaN         NaN         NaN                    0  NaN            110896.23\n",
            "             62104                EMPLOYEE CAFETERIA Wages & Employee benefits                    Employee Cost               0       27320           0       27320                27320  NaN                32030\n",
            "             62107                  HEALTH & MEDICAL Wages & Employee benefits                    Employee Cost               0    23634.08           0    23634.08             23634.08  NaN             17069.75\n",
            "             62109               INDEMNITY PROVISION Wages & Employee benefits                    Employee Cost               0    11608.99           0    11608.99             11608.99  NaN             15598.17\n",
            "             62110              AIR TICKET PROVISION Wages & Employee benefits                    Employee Cost               0     8525.84           0     8525.84              8525.84  NaN              4681.75\n",
            "             62199                    OTHER BENEFITS                       NaN                    Employee Cost             NaN         NaN         NaN         NaN                    0  NaN             16195.37\n",
            "             70002             PRINTING & STATIONARY         Printing Expenses         Printing and Stationery                0     5072.51           0     5072.51              5072.51  NaN             13840.57\n",
            "             70003                  MEDICAL SUPPLIES      Other Admin Expenses                  Other Admin Exp               0       159.5           0       159.5                159.5  NaN                    0\n",
            "             70006                 CLEANING SUPPLIES         Cleaning Expenses                 Kitchen Expenses               0     9067.24           0     9067.24              9067.24  NaN               8475.4\n",
            "             70017              RESERVATION EXPENSES      Reservation Expenses                  Other Admin Exp               0      218.37           0      218.37               218.37  NaN                    0\n",
            "             70020              FLOWERS & DECORATION                       NaN        Adveritshment & Marketing             NaN         NaN         NaN         NaN                    0  NaN                 28.6\n",
            "             70023                    GUEST SUPPLIES       Restaruant Supplies                 Kitchen Expenses               0         625           0         625                  625  NaN                 3596\n",
            "             70027                  KITCHEN SUPPLIES         Kitchen Supplies                  Kitchen Expenses               0    21681.31         184    21497.31             21497.31  NaN             16824.88\n",
            "             70029                     MENU SUPPLIES         Kitchen Supplies                  Kitchen Expenses               0         102           0         102                  102  NaN                    0\n",
            "             70034                 MENUS & WINELISTS       Restaruant Supplies                 Kitchen Expenses               0     1398.43           0     1398.43              1398.43  NaN               635.65\n",
            "             70041                TELECOMMUNICATIONS                Utilities                    Communication                0     18672.8           0     18672.8              18672.8  NaN             17900.43\n",
            "             70042                    TRANSPORTATION            Transporation                   Other Admin Exp               0       877.5           0       877.5                877.5  NaN             15980.75\n",
            "             70043                          UNIFORMS      Other Admin Expenses                  Other Admin Exp               0          36           0          36                   36  NaN                 2370\n",
            "             70046                         CHINAWARE         Kitchen Supplies                  Kitchen Expenses               0     2527.94     1264.05     1263.89              1263.89  NaN              1425.01\n",
            "             70047                        SILVERWARE         Kitchen Supplies                  Kitchen Expenses               0         414           0         414                  414  NaN               1228.9\n",
            "             70048                         GLASSWARE         Kitchen Supplies                  Kitchen Expenses               0         488           0         488                  488  NaN              1392.72\n",
            "             70049                  KITCHEN UTENSILS                       NaN                 Kitchen Expenses             NaN         NaN         NaN         NaN                    0  NaN             14920.16\n",
            "             70053               CONTRACTED SERVICES      Contracted Services             Sub Contract Services               0       65578           0       65578                65578  NaN             52257.23\n",
            "             70054            FOOD DELIVERY SERVICES         Delivery Expenses                  Other Admin Exp               0     2882.68           0     2882.68              2882.68  NaN                    0\n",
            "             70055      FOOD SAFETY TRAINING & AUDIT                       NaN                  Other Admin Exp             NaN         NaN         NaN         NaN                    0  NaN               640.95\n",
            "             70056                      KITCHEN FUEL                Utilities                          Utilites               0        8910           0        8910                 8910  NaN               9037.8\n",
            "             70060               COMMISSION - ZOMATO                       NaN                      Commission              NaN         NaN         NaN         NaN                  NaN  NaN              1660.24\n",
            "             70061               COMMISSION -TALABAT   Third Party Commission                       Commission                0      807.91           0      807.91               807.91  NaN                    0\n",
            "             70062                 COMMISSION - NOON   Third Party Commission                       Commission                0     9231.34           0     9231.34              9231.34  NaN                    0\n",
            "             70065            COMMISSION - DELIVEROO   Third Party Commission                       Commission                0      2537.7           0      2537.7               2537.7  NaN               1018.2\n",
            "             70066               COMMISSION - CAREEM   Third Party Commission                       Commission                0     4465.57           0     4465.57              4465.57  NaN                    0\n",
            "             80007                          LICENSES               License Fee Legal, License and Professional                0       14250           0       14250                14250  NaN                    0\n",
            "             80009                         AUDIT FEE                 Audit Fee Legal, License and Professional                0    12999.96           0    12999.96             12999.96  NaN                21000\n",
            "             80012       COMPUTER SERVICES -LICENCES    IT & Software Expenses          Repairs and Maintenacne               0     7170.06           0     7170.06              7170.06  NaN              2940.48\n",
            "             80013             COMPUTER SERVICES -IT    IT & Software Expenses          Repairs and Maintenacne               0     3999.96           0     3999.96              3999.96  NaN              5416.68\n",
            "             80015            CREDIT CARD COMMISSION   credit card commission                       Commission                0    18074.01           0    18074.01             18074.01  NaN             24894.96\n",
            "             80020                  MEDICAL EXPENSES                       NaN                  Other Admin Exp             NaN         NaN         NaN         NaN                    0  NaN              1653.44\n",
            "             80021                   OFFICE SUPPLIES      Other Admin Expenses                  Other Admin Exp               0          47           0          47                   47  NaN                    0\n",
            "             80042                    TRANSPORTATION                       NaN                  Other Admin Exp             NaN         NaN         NaN         NaN                    0  NaN               314.28\n",
            "             80099              OTHER ADMINISTRATION      Other Admin Expenses                  Other Admin Exp               0         640           0         640                  640  NaN                  500\n",
            "             80252         FEES & PURCHASED SERVICES      Other Admin Expenses                  Other Admin Exp               0         500           0         500                  500  NaN                    0\n",
            "             80375            INFORMATION TECHNOLOGY    IT & Software Expenses          Repairs and Maintenacne               0         475           0         475                  475  NaN              2964.36\n",
            "             80452                LICENSES & PERMITS               License Fee Legal, License and Professional                0         500           0         500                  500  NaN                 2800\n",
            "             80652             PRINTING & STATIONERY                       NaN         Printing and Stationery              NaN         NaN         NaN         NaN                    0  NaN                25.25\n",
            "             80454        ALCOHOL PERMITS / LICENSES                       NaN Legal, License and Professional              NaN         NaN         NaN         NaN                    0  NaN                15310\n",
            "             80701      RECRUITMENT VISA EID RENEWAL       Recruitmet Expeness                    Employee Cost               0    14457.17           0    14457.17             14457.17  NaN              8829.55\n",
            "             80909                         ROUND OFF      Other Admin Expenses                  Other Admin Exp               0        2.18         0.6        1.58                 1.58  NaN                 2.92\n",
            "             81201         ADVERTISING -SOCIAL MEDIA           Advertishement         Adveritshment & Marketing               0    49368.98           0    49368.98             49368.98  NaN             11571.42\n",
            "             81652                PROMOTION & EVENTS                       NaN        Adveritshment & Marketing             NaN         NaN         NaN         NaN                    0  NaN                   42\n",
            "             82001             REPAIRS & MAINTENANCE     Repairs & Maintenance          Repairs and Maintenacne               0     7724.12           0     7724.12              7724.12  NaN             28751.75\n",
            "             82016                  FIRE MAINTENANCE     Repairs & Maintenance          Repairs and Maintenacne               0        9550           0        9550                 9550  NaN                    0\n",
            "             82019                TOOLS & EQUIPMENTS     Repairs & Maintenance          Repairs and Maintenacne               0      120.65           0      120.65               120.65  NaN                    0\n",
            "             82023                      PEST CONTROL     Repairs & Maintenance          Repairs and Maintenacne               0     3450.12           0     3450.12              3450.12  NaN              4430.85\n",
            "             82030                    LPG MAINTEANCE     Repairs & Maintenance          Repairs and Maintenacne               0        1400           0        1400                 1400  NaN                    0\n",
            "             82039                   KITCHEN EXTRACT     Repairs & Maintenance          Repairs and Maintenacne               0        7829           0        7829                 7829  NaN               1198.5\n",
            "             82044                       ELECTRICITY                Utilities                          Utilites               0     29320.2     6246.06    23074.14             23074.14  NaN             38485.44\n",
            "             82046                               GAS                Utilities                          Utilites               0    54610.08     6830.71    47779.37             47779.37  NaN             65589.52\n",
            "             83001                  STAFF RECRUITING                       NaN                    Employee Cost             NaN         NaN         NaN         NaN                    0  NaN                   64\n",
            "             82048                MAINTENANCE - HOOD                Utilities           Repairs and Maintenacne               0        1420           0        1420                 1420  NaN                    0\n",
            "             86001                         INSURANCE        Insurance Expenses                  Other Admin Exp               0     9431.88           0     9431.88              9431.88  NaN                10266\n",
            "             86009          RENTAL AND REVENUE SHARE             Rent & Others                             Rent               0   127485.15           0   127485.15            127485.15  NaN             75731.25\n",
            "             86011             LEASE - MARKETING FEE                    Lease                              Rent               0      4750.8           0      4750.8               4750.8  NaN                 5000\n",
            "             86012               LEASE - SERVICE FEE                    Lease                              Rent               0    45733.83           0    45733.83             45733.83  NaN             45682.92\n",
            "             90001       DEPRECIATION & AMORTISATION            Depericiation                PPE- Deperication                0   350277.36           0   350277.36            350277.36  NaN            349452.36\n",
            "                                                                           NaN                              NaN             NaN         NaN         NaN         NaN                  NaN  NaN                  NaN\n",
            "                                       Expense Total                       NaN                              NaN               0  2330951.08   521247.35  1809703.73           1809703.73  NaN            2023888.3\n",
            "               NaN                               NaN                       NaN                              NaN             NaN         NaN         NaN         NaN                  NaN  NaN                  NaN\n",
            "               NaN                       Grand Total                       NaN                              NaN               0  3665344.01  3665344.01           0                    0  NaN                  NaN\n",
            "               NaN                               NaN                       NaN                              NaN             NaN         NaN         NaN         NaN                  NaN  NaN                  NaN\n",
            "               NaN                               NaN                       NaN                              NaN            -0.0         NaN         NaN         NaN          -1809703.73  NaN          25418336.02\n",
            "               NaN                               NaN                       NaN                              NaN             NaN         NaN         NaN         NaN                  NaN  NaN                  NaN\n",
            "               NaN                               NaN                       NaN                              NaN             NaN         NaN         NaN         NaN                  NaN  NaN                  NaN\n",
            "               NaN                               NaN                       NaN                              NaN             NaN         NaN         NaN         NaN                  NaN  NaN                  NaN\n",
            "               NaN                               NaN                       NaN                              NaN             NaN         NaN         NaN         NaN            533551.88  NaN            296742.69\n",
            "\n",
            "    Below is a list of financial indicators that belong to the Balance Sheet section:\n",
            "\n",
            "    Balance Sheet Indicators:\n",
            "    - Cash and Cash Equivalents\n",
            "- Short-term Investments\n",
            "- Accounts Receivable\n",
            "- Inventories\n",
            "- Other Current Assets\n",
            "- Total Current Assets\n",
            "- Long-term Investments\n",
            "- Property, Plant and Equipment (Net)\n",
            "- Intangible Assets\n",
            "- Other Non-current Assets\n",
            "- Total Non-current Assets\n",
            "- Total Assets\n",
            "- Short-term Debt\n",
            "- Accounts Payable\n",
            "- Accrued Liabilities\n",
            "- Other Current Liabilities\n",
            "- Total Current Liabilities\n",
            "- Long-term Debt\n",
            "- Deferred Tax Liabilities\n",
            "- Other Non-current Liabilities\n",
            "- Total Non-current Liabilities\n",
            "- Total Liabilities\n",
            "- Common Stock\n",
            "- Retained Earnings\n",
            "- Other Equity\n",
            "- Total Equity\n",
            "- Total Liabilities and Equity\n",
            "\n",
            "    Income Statement Indicators:\n",
            "    - Revenue\n",
            "- Cost of Goods Sold\n",
            "- Gross Profit\n",
            "- Selling Expenses\n",
            "- General and Administrative Expenses\n",
            "- Research and Development Expenses\n",
            "- Operating Profit\n",
            "- Interest Income\n",
            "- Interest Expense\n",
            "- Other Income (Expenses)\n",
            "- Profit Before Tax\n",
            "- Income Tax Expense\n",
            "- Net Profit\n",
            "\n",
            "    Cash Flow Statement Indicators:\n",
            "    - Net Income\n",
            "- Depreciation and Amortization\n",
            "- Change in Working Capital\n",
            "- Cash Flow from Operating Activities\n",
            "- Capital Expenditures\n",
            "- Proceeds from Sale of Assets\n",
            "- Cash Flow from Investing Activities\n",
            "- Proceeds from Borrowings\n",
            "- Repayment of Debt\n",
            "- Dividends Paid\n",
            "- Cash Flow from Financing Activities\n",
            "- Net Change in Cash\n",
            "\n",
            "    Please:\n",
            "\n",
            "    1. Automatically detect and use the two columns that represent the two years (previous year and current year) to extract numeric data for all calculations.\n",
            "\n",
            "    2. Calculate all main financial indicators for both years based on these two columns.\n",
            "\n",
            "    3. Organize the financial indicators into three separate, clean Excel-style tables:\n",
            "    Each table must begin with a heading in the following format:\n",
            "     #### Balance Sheet Table  \n",
            "     #### Income Statement Table  \n",
            "     #### Cash Flow Statement Table\n",
            "\n",
            "    4. Each table must include two columns with numeric values: one for the current year and one for the previous year, enabling year-over-year comparison.\n",
            "\n",
            "    5. Generate a professional, human-readable financial summary report in English that highlights:\n",
            "      - Key revenue figures\n",
            "      - Cost and expense analysis\n",
            "      - Profitability overview\n",
            "      - Cash flow performance\n",
            "      - Meaningful comments on significant changes between the two years, based strictly on the numeric data from the two year columns\n",
            "\n",
            "    6. Avoid including qualitative or vague comments inside the tables—only present numeric financial figures.\n",
            "\n",
            "    7. Output two parts:\n",
            "      - A concise, professional financial summary report in English\n",
            "      - Three clearly formatted Excel-style tables with numeric data for both years side-by-side, ready for export\n",
            "\n",
            "    Use professional English.\n",
            "    \n"
          ]
        }
      ],
      "source": [
        "prompt = generate_prompt_from_df(df_from_code)\n",
        "print(prompt)"
      ]
    },
    {
      "cell_type": "code",
      "execution_count": 22,
      "id": "KonzyWQJGGSl",
      "metadata": {
        "colab": {
          "base_uri": "https://localhost:8080/"
        },
        "id": "KonzyWQJGGSl",
        "outputId": "1b1acad0-089e-4913-d70d-8308e0008283"
      },
      "outputs": [
        {
          "name": "stdout",
          "output_type": "stream",
          "text": [
            "### Financial Summary Report\n",
            "\n",
            "#### Key Revenue Figures\n",
            "In the current year, the total income generated was significantly lower as compared to the previous year. The revenue from food and beverage sales saw marked declines, with food revenue at -$1183287.83 in the current year compared to -$1606930.44 in the previous year, and beverage revenues continuing to show negative figures for both alcoholic and non-alcoholic categories.\n",
            "\n",
            "#### Cost and Expense Analysis\n",
            "The expenses in the current year have increased across several areas, leading to a total expense of $1809703.73, compared to $2023888.3 in the previous year. Notable increases were observed in salaries and wages, particularly the basic salary and overtime expenses. Costs associated with utilities such as electricity and gas also saw an increment, signifying an increase in operational expenses.\n",
            "\n",
            "#### Profitability Overview\n",
            "The significant decline in revenue resulted in decreased profitability for the current year. Despite efforts to control specific costs, the gap between revenue and expenses has widened, reflecting negatively on the overall financial performance. A net decrease is observed in total income comparison, pointing towards a need for revenue enhancement strategies.\n",
            "\n",
            "#### Cash Flow Performance\n",
            "Cash and cash equivalents remained stable at $1000, indicating minimal changes in liquid assets from the previous year. However, the negative balance within the inter-company accounts payable suggests potential cash flow constraints. The consistent levels of closing balances in accounts such as \"CASHIER FLOAT\" underscore a steady cash-keeping pattern.\n",
            "\n",
            "#### Significant Changes Analysis\n",
            "There was a notable increase in accumulated profit/losses from -$2444853.69 to -$2741596.38, pointing towards operational inefficiencies. Fixed assets, particularly \"FURNITURE & FIXTURES & EQUIP.\" showed an increased operational base with additional depreciation recorded, yet this did not translate into profitability enhancements.\n",
            "\n",
            "### Excel-Style Tables\n",
            "\n",
            "#### Balance Sheet Table\n",
            "| Indicator                      | Current Year | Previous Year |\n",
            "|--------------------------------|--------------|---------------|\n",
            "| Cash and Cash Equivalents      | 1000         | 1000          |\n",
            "| Accounts Receivable            | -            | -             |\n",
            "| Total Assets                   | 14355193.96  | 13424369.47   |\n",
            "| Accounts Payable               | 1464376.37   | 10979515.78   |\n",
            "| Total Liabilities              | -14888745.84 | 13721112.16   |\n",
            "| Retained Earnings              | -2444853.69  | -2741596.38   |\n",
            "| Total Equity                   | -2444853.69  | -2741596.38   |\n",
            "\n",
            "#### Income Statement Table\n",
            "| Indicator                       | Current Year | Previous Year |\n",
            "|---------------------------------|--------------|---------------|\n",
            "| Revenue                         | 1329442.93   | -1727145.61   |\n",
            "| Cost of Goods Sold              | 521247.35    | 2023888.3     |\n",
            "| Gross Profit                    | -            | -             |\n",
            "| General and Administrative Exp. | 1809703.73   | 1809703.73    |\n",
            "| Net Profit                      | -            | -             |\n",
            "\n",
            "#### Cash Flow Statement Table\n",
            "| Indicator                           | Current Year | Previous Year |\n",
            "|-------------------------------------|--------------|---------------|\n",
            "| Net Income                          | -            | -             |\n",
            "| Depreciation and Amortization       | 350277.36    | 349452.36     |\n",
            "| Cash Flow from Operating Activities | -            | -             |\n",
            "| Net Change in Cash                  | 0            | 0             |\n",
            "\n",
            "This summary highlights the pivotal financial elements from the data provided, prompting the need for strategic financial adjustments to improve future fiscal outcomes.\n"
          ]
        }
      ],
      "source": [
        "## 5. Gọi GPT để sinh báo cáo\n",
        "response = client.chat.completions.create(\n",
        "    model=\"gpt-4o\",\n",
        "    messages=[\n",
        "        {\"role\": \"system\", \"content\": \"You are a financial analyst\"},\n",
        "        {\"role\": \"user\", \"content\": prompt}\n",
        "    ]\n",
        ")\n",
        "\n",
        "report_text = response.choices[0].message.content\n",
        "print(report_text)"
      ]
    },
    {
      "cell_type": "code",
      "execution_count": null,
      "id": "je_EsfhoJ2ko",
      "metadata": {
        "colab": {
          "base_uri": "https://localhost:8080/",
          "height": 17
        },
        "id": "je_EsfhoJ2ko",
        "outputId": "80506c97-9a2c-48a4-aa26-27082d05c1c0"
      },
      "outputs": [
        {
          "data": {
            "application/javascript": "\n    async function download(id, filename, size) {\n      if (!google.colab.kernel.accessAllowed) {\n        return;\n      }\n      const div = document.createElement('div');\n      const label = document.createElement('label');\n      label.textContent = `Downloading \"${filename}\": `;\n      div.appendChild(label);\n      const progress = document.createElement('progress');\n      progress.max = size;\n      div.appendChild(progress);\n      document.body.appendChild(div);\n\n      const buffers = [];\n      let downloaded = 0;\n\n      const channel = await google.colab.kernel.comms.open(id);\n      // Send a message to notify the kernel that we're ready.\n      channel.send({})\n\n      for await (const message of channel.messages) {\n        // Send a message to notify the kernel that we're ready.\n        channel.send({})\n        if (message.buffers) {\n          for (const buffer of message.buffers) {\n            buffers.push(buffer);\n            downloaded += buffer.byteLength;\n            progress.value = downloaded;\n          }\n        }\n      }\n      const blob = new Blob(buffers, {type: 'application/binary'});\n      const a = document.createElement('a');\n      a.href = window.URL.createObjectURL(blob);\n      a.download = filename;\n      div.appendChild(a);\n      a.click();\n      div.remove();\n    }\n  ",
            "text/plain": [
              "<IPython.core.display.Javascript object>"
            ]
          },
          "metadata": {},
          "output_type": "display_data"
        },
        {
          "data": {
            "application/javascript": "download(\"download_636d0cfd-64b3-4242-987e-950e37929a31\", \"financial_summary.xlsx\", 5072)",
            "text/plain": [
              "<IPython.core.display.Javascript object>"
            ]
          },
          "metadata": {},
          "output_type": "display_data"
        }
      ],
      "source": [
        "# 7. Trích bảng từ output GPT (đơn giản)\n",
        "import re\n",
        "lines = report_text.splitlines()\n",
        "table_lines = [l for l in lines if \"|\" in l and \"---\" not in l]\n",
        "\n",
        "# Bỏ dấu | đầu cuối rồi mới tách theo dấu |\n",
        "rows = [re.split(r\"\\s*\\|\\s*\", l.strip().strip('|')) for l in table_lines]\n",
        "\n",
        "if len(rows) > 1:\n",
        "    df_summary = pd.DataFrame(rows[1:], columns=rows[0])\n",
        "    df_summary.to_excel(\"financial_summary.xlsx\", index=False)\n",
        "    files.download(\"financial_summary.xlsx\")\n",
        "else:\n",
        "    print(\"⚠️ No summary table found.\")"
      ]
    },
    {
      "cell_type": "code",
      "execution_count": 23,
      "id": "r0ZU8rnsq_51",
      "metadata": {
        "colab": {
          "base_uri": "https://localhost:8080/",
          "height": 35
        },
        "id": "r0ZU8rnsq_51",
        "outputId": "dda4e1fb-ca38-4ebc-adc0-37668b5f6ea7"
      },
      "outputs": [
        {
          "data": {
            "application/javascript": "\n    async function download(id, filename, size) {\n      if (!google.colab.kernel.accessAllowed) {\n        return;\n      }\n      const div = document.createElement('div');\n      const label = document.createElement('label');\n      label.textContent = `Downloading \"${filename}\": `;\n      div.appendChild(label);\n      const progress = document.createElement('progress');\n      progress.max = size;\n      div.appendChild(progress);\n      document.body.appendChild(div);\n\n      const buffers = [];\n      let downloaded = 0;\n\n      const channel = await google.colab.kernel.comms.open(id);\n      // Send a message to notify the kernel that we're ready.\n      channel.send({})\n\n      for await (const message of channel.messages) {\n        // Send a message to notify the kernel that we're ready.\n        channel.send({})\n        if (message.buffers) {\n          for (const buffer of message.buffers) {\n            buffers.push(buffer);\n            downloaded += buffer.byteLength;\n            progress.value = downloaded;\n          }\n        }\n      }\n      const blob = new Blob(buffers, {type: 'application/binary'});\n      const a = document.createElement('a');\n      a.href = window.URL.createObjectURL(blob);\n      a.download = filename;\n      div.appendChild(a);\n      a.click();\n      div.remove();\n    }\n  ",
            "text/plain": [
              "<IPython.core.display.Javascript object>"
            ]
          },
          "metadata": {},
          "output_type": "display_data"
        },
        {
          "data": {
            "application/javascript": "download(\"download_4b1b9932-e128-42cc-9e22-3657ca690645\", \"financial_statements_from_gpt.xlsx\", 7095)",
            "text/plain": [
              "<IPython.core.display.Javascript object>"
            ]
          },
          "metadata": {},
          "output_type": "display_data"
        },
        {
          "name": "stdout",
          "output_type": "stream",
          "text": [
            "✅ Saved to financial_statements_from_gpt.xlsx\n"
          ]
        }
      ],
      "source": [
        "import re\n",
        "import pandas as pd\n",
        "\n",
        "# Giả sử report_text là nội dung text từ GPT\n",
        "lines = report_text.splitlines()\n",
        "\n",
        "tables = {}\n",
        "current_table_name = None\n",
        "table_lines = []\n",
        "\n",
        "def save_table(name, lines):\n",
        "    rows = [re.split(r\"\\s*\\|\\s*\", l.strip().strip('|')) for l in lines]\n",
        "    if len(rows) > 1:\n",
        "        df = pd.DataFrame(rows[1:], columns=rows[0])\n",
        "        tables[name] = df\n",
        "\n",
        "for line in lines:\n",
        "    # Nhận tiêu đề dạng: #### Balance Sheet Table\n",
        "    match = re.match(r\"^####\\s+(.*?)\\s+Table\", line.strip())\n",
        "    if match:\n",
        "        # Nếu có bảng trước đó, lưu lại\n",
        "        if current_table_name and table_lines:\n",
        "            save_table(current_table_name, table_lines)\n",
        "            table_lines = []\n",
        "\n",
        "        # Cập nhật tên bảng\n",
        "        current_table_name = match.group(1)\n",
        "\n",
        "    elif \"|\" in line and \"---\" not in line:\n",
        "        table_lines.append(line)\n",
        "\n",
        "# Lưu bảng cuối cùng nếu có\n",
        "if current_table_name and table_lines:\n",
        "    save_table(current_table_name, table_lines)\n",
        "\n",
        "# Ghi ra file Excel với nhiều sheet\n",
        "if tables:\n",
        "    with pd.ExcelWriter(\"financial_statements_from_gpt.xlsx\", engine=\"xlsxwriter\") as writer:\n",
        "        for sheet_name, df in tables.items():\n",
        "            df.to_excel(writer, sheet_name=sheet_name, index=False)\n",
        "    files.download(\"financial_statements_from_gpt.xlsx\")\n",
        "    print(\"✅ Saved to financial_statements_from_gpt.xlsx\")\n",
        "else:\n",
        "    print(\"⚠️ No tables found in report_text.\")"
      ]
    },
    {
      "cell_type": "code",
      "execution_count": null,
      "id": "F2AZqQeoJ-Qz",
      "metadata": {
        "colab": {
          "base_uri": "https://localhost:8080/"
        },
        "id": "F2AZqQeoJ-Qz",
        "outputId": "334696fb-b365-4baf-c666-7fe728222f62"
      },
      "outputs": [
        {
          "name": "stdout",
          "output_type": "stream",
          "text": [
            "To calculate the Total Cost of Goods Sold (COGS) from the provided data, we need to identify and sum up all the costs directly associated with the production and delivery of goods sold by a company. These costs typically include raw materials, components, labor, and manufacturing overhead incurred in making the product.\n",
            "\n",
            "In the dataset you provided, you'll need to determine which transactions represent these types of costs. From the sample data you provided, it seems like transaction IDs and their descriptions vary but generally don't fully describe typical COGS transactions directly. However, we can make some assumptions:\n",
            "\n",
            "1. **Payment to suppliers**: This typically forms part of COGS if it is related to purchasing materials or components needed for production. The transaction on \"2025-01-02\" with the description \"Payment to supplier\" for the amount \"-3000\" likely relates to COGS because it involves a supplier payment.\n",
            "\n",
            "2. Other transactions: Cash transactions and accounts receivable entries generally relate to revenues, customer payments, or corrections and do not directly fall under COGS unless they specify a cost related directly to goods production or procurement.\n",
            "\n",
            "Based on the data you provided:\n",
            "\n",
            "- Total COGS = Sum of transactions that indicate direct costs of production or procurement from the supplier.\n",
            "- In this dataset, only the transaction on \"2025-01-02\" with \"-3000\" seems to fit that description.\n",
            "\n",
            "Therefore, based on the assumptions and data available, the Total COGS from the transactions you listed is 3000. \n",
            "\n",
            "Would you like me to assist with anything else related to this data?\n"
          ]
        }
      ],
      "source": [
        "prompt = f'How do you calculate Total Cost of Goods Sold from {df}'\n",
        "response = client.chat.completions.create(\n",
        "    model=\"gpt-4o\",\n",
        "    messages=[\n",
        "        {\"role\": \"system\", \"content\": \"You are a financial analyst\"},\n",
        "        {\"role\": \"user\", \"content\": prompt}\n",
        "    ]\n",
        ")\n",
        "\n",
        "report_text = response.choices[0].message.content\n",
        "print(report_text)"
      ]
    },
    {
      "cell_type": "code",
      "execution_count": null,
      "id": "rQik_d7JMxF6",
      "metadata": {
        "id": "rQik_d7JMxF6"
      },
      "outputs": [],
      "source": [
        "# @title Performance metrics\n"
      ]
    },
    {
      "cell_type": "markdown",
      "id": "v1XcRzqrUj9B",
      "metadata": {
        "id": "v1XcRzqrUj9B"
      },
      "source": [
        "1. Exact Match Accuracy (EMA) <br>\n",
        "Compares the entire extracted table from GPT with the ground truth. If every cell matches exactly, the prediction is considered 100% correct.\n",
        "```python\n",
        "\n",
        "        `accuracy = (df_output.equals(df_ground_truth))`"
      ]
    },
    {
      "cell_type": "markdown",
      "id": "RZaHgHsRUrER",
      "metadata": {
        "id": "RZaHgHsRUrER"
      },
      "source": [
        "2. Cell-level Accuracy / Match Rate <br>\n",
        "Compares each individual cell in the predicted table against the corresponding cell in the reference table.\n",
        "```python\n",
        "\n",
        "          `total_cells = df_output.size`\n",
        "          `matched_cells = (df_output.values == df_ground_truth.values).sum()`\n",
        "          `cell_accuracy = matched_cells / total_cells`"
      ]
    },
    {
      "cell_type": "markdown",
      "id": "vtofZFOYVKkT",
      "metadata": {
        "id": "vtofZFOYVKkT"
      },
      "source": [
        "3. Levenshtein Similarity / Fuzzy Matching\n",
        "Uses fuzzy string matching (via fuzzywuzzy or rapidfuzz) to allow small variations in values, such as punctuation or formatting differences.\n",
        "```python\n",
        "\n",
        "      `from rapidfuzz import fuzz`\n",
        "      `fuzz.ratio(\"6,000\", \"6000\")  # ~95% similarity`\n"
      ]
    },
    {
      "cell_type": "code",
      "execution_count": null,
      "id": "X1gkDf3SUoNj",
      "metadata": {
        "id": "X1gkDf3SUoNj"
      },
      "outputs": [],
      "source": [
        "# Cài đặt thư viện cần thiết (nếu chưa có)\n",
        "!pip install datasets --quiet\n",
        "\n",
        "from datasets import load_dataset\n",
        "import pandas as pd"
      ]
    },
    {
      "cell_type": "code",
      "execution_count": null,
      "id": "AxZHJpXoxXQa",
      "metadata": {
        "id": "AxZHJpXoxXQa"
      },
      "outputs": [],
      "source": [
        "df = pd.read_csv(\"hf://datasets/KadamParth/NCERT_Accounting_11th/Accountancy_11th_Cleaned.csv\")"
      ]
    },
    {
      "cell_type": "code",
      "execution_count": null,
      "id": "XgN2-JtleJeq",
      "metadata": {
        "id": "XgN2-JtleJeq"
      },
      "outputs": [],
      "source": []
    }
  ],
  "metadata": {
    "accelerator": "GPU",
    "colab": {
      "gpuType": "T4",
      "provenance": []
    },
    "kernelspec": {
      "display_name": "Python 3",
      "name": "python3"
    },
    "language_info": {
      "name": "python"
    }
  },
  "nbformat": 4,
  "nbformat_minor": 5
}
