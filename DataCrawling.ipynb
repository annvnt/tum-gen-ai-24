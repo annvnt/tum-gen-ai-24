{
 "cells": [
  {
   "metadata": {},
   "cell_type": "markdown",
   "source": [
    "# SAP DATASET | BigQuery Dataset\n",
    "https://www.kaggle.com/datasets/mustafakeser4/sap-dataset-bigquery-dataset"
   ],
   "id": "6f60374d2142ad1"
  },
  {
   "metadata": {},
   "cell_type": "code",
   "outputs": [],
   "execution_count": null,
   "source": [
    "import kagglehub\n",
    "\n",
    "# Download latest version\n",
    "path = kagglehub.dataset_download(\"mustafakeser4/sap-dataset-bigquery-dataset\")\n",
    "\n",
    "print(\"Path to dataset files:\", path)"
   ],
   "id": "aa779771e7a2de87"
  },
  {
   "metadata": {},
   "cell_type": "code",
   "outputs": [],
   "execution_count": null,
   "source": [
    "import kagglehub\n",
    "from pathlib import Path\n",
    "import pandas as pd\n",
    "\n",
    "def download_and_load_all_files(dataset_id: str):\n",
    "    # Download dataset\n",
    "    path = kagglehub.dataset_download(dataset_id)\n",
    "    data_dir = Path(path).expanduser().resolve()\n",
    "\n",
    "    # List all files (you can filter specific extensions if needed)\n",
    "    all_files = sorted(data_dir.glob('*'))  # or use data_dir.rglob('*') to include subfolders\n",
    "    if not all_files:\n",
    "        raise FileNotFoundError(f\"No files found in {data_dir}\")\n",
    "\n",
    "    print(f\"Found {len(all_files)} files in: {data_dir}\")\n",
    "    return all_files"
   ],
   "id": "a121d42450d65a16"
  },
  {
   "metadata": {},
   "cell_type": "code",
   "outputs": [],
   "execution_count": null,
   "source": [
    "# Usage\n",
    "dataset_id = \"mustafakeser4/sap-dataset-bigquery-dataset\"\n",
    "all_files = download_and_load_all_files(dataset_id)\n",
    "\n",
    "target_file = next(f for f in all_files if f.name == \"faglflexa.csv\")\n",
    "df = pd.read_csv(target_file)\n",
    "df.head(20)"
   ],
   "id": "6010f1bfb85e260f"
  },
  {
   "metadata": {},
   "cell_type": "markdown",
   "source": [
    "# General Ledger (Financial data set)\n",
    "Prepare Income Statement, Balance Sheet, and Financial Analytics\n",
    "\n",
    "https://www.kaggle.com/datasets/irfansharif/generalledger"
   ],
   "id": "fd7cb451972d734b"
  },
  {
   "metadata": {},
   "cell_type": "code",
   "outputs": [],
   "execution_count": null,
   "source": "",
   "id": "2f54a072e5453fd4"
  }
 ],
 "metadata": {},
 "nbformat": 4,
 "nbformat_minor": 5
}
