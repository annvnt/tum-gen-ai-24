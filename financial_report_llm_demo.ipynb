{
  "cells": [
    {
      "cell_type": "code",
      "execution_count": 3,
      "id": "0TqCQsctxY78",
      "metadata": {
        "colab": {
          "base_uri": "https://localhost:8080/"
        },
        "id": "0TqCQsctxY78",
        "outputId": "7a81ff21-0377-4042-e2df-6232f9a56b3e"
      },
      "outputs": [
        {
          "name": "stdout",
          "output_type": "stream",
          "text": [
            "Collecting python-dotenv\n",
            "  Downloading python_dotenv-1.1.0-py3-none-any.whl.metadata (24 kB)\n",
            "Downloading python_dotenv-1.1.0-py3-none-any.whl (20 kB)\n",
            "Installing collected packages: python-dotenv\n",
            "Successfully installed python-dotenv-1.1.0\n"
          ]
        }
      ],
      "source": [
        "%pip install python-dotenv"
      ]
    },
    {
      "cell_type": "code",
      "execution_count": 4,
      "id": "kf_Qw9X2FIbu",
      "metadata": {
        "id": "kf_Qw9X2FIbu"
      },
      "outputs": [],
      "source": [
        "import openai\n",
        "from openai import OpenAI\n",
        "import os\n",
        "from dotenv import load_dotenv"
      ]
    },
    {
      "cell_type": "code",
      "execution_count": null,
      "id": "eJMEv-VExB8x",
      "metadata": {
        "colab": {
          "base_uri": "https://localhost:8080/"
        },
        "id": "eJMEv-VExB8x",
        "outputId": "780b2e68-21a5-4f06-f57a-0da03cb62825"
      },
      "outputs": [],
      "source": [
        "# Load biến môi trường từ file .env\n",
        "load_dotenv()\n",
        "\n",
        "# Lấy giá trị biến API_KEY\n",
        "openai.api_key = os.getenv(\"API_KEY\")\n",
        "\n",
        "print(\"API Key:\", openai.api_key)"
      ]
    },
    {
      "cell_type": "code",
      "execution_count": 6,
      "id": "idNVRsGNGeOY",
      "metadata": {
        "id": "idNVRsGNGeOY"
      },
      "outputs": [],
      "source": [
        "client = OpenAI(api_key=openai.api_key)"
      ]
    },
    {
      "cell_type": "code",
      "execution_count": null,
      "id": "kN0VXrvGFW8c",
      "metadata": {
        "id": "kN0VXrvGFW8c"
      },
      "outputs": [],
      "source": [
        "import pandas as pd\n",
        "# from google.colab import files"
      ]
    },
    {
      "cell_type": "code",
      "execution_count": null,
      "id": "2CpuceEoFYsr",
      "metadata": {
        "colab": {
          "base_uri": "https://localhost:8080/",
          "height": 74
        },
        "id": "2CpuceEoFYsr",
        "outputId": "20b6d9d1-33a0-4cb5-ac3d-6657076977e2"
      },
      "outputs": [],
      "source": [
        "# uploaded = files.upload()  # Tải lên file Excel"
      ]
    },
    {
      "cell_type": "code",
      "execution_count": null,
      "id": "efQXRrAcFicF",
      "metadata": {
        "colab": {
          "base_uri": "https://localhost:8080/",
          "height": 206
        },
        "id": "efQXRrAcFicF",
        "outputId": "158fe45a-9c99-48f7-9694-fccf7ac0043e"
      },
      "outputs": [],
      "source": [
        "# file_name = list(uploaded.keys())[0]\n",
        "file_name = './demo_data.xlsx'\n",
        "df = pd.read_excel(file_name)\n",
        "df.head()"
      ]
    },
    {
      "cell_type": "code",
      "execution_count": null,
      "id": "KdT_CLEXFyXP",
      "metadata": {
        "id": "KdT_CLEXFyXP"
      },
      "outputs": [],
      "source": [
        "## 4. Tạo Prompt từ bảng dữ liệu\n",
        "def generate_prompt_from_df(df):\n",
        "    table_str = df.to_string(index=False)\n",
        "    prompt = f\"\"\"\n",
        "    You are a financial analyst. Below is a table of daily financial data:\n",
        "\n",
        "    {table_str}\n",
        "\n",
        "    Please:\n",
        "    1. Generate a **professional financial summary report** based on this data according to Vietnamese accounting standard Circular 200/2014/TT-BTC.\n",
        "    2. Include key sections in the report: Revenue, Costs, Profit, and meaningful comments.\n",
        "    3. Additionally, output a **clean and concise Excel-style table** (with headers) containing only the **main financial indicators**, such as:\n",
        "      - Total Revenue\n",
        "      - Total Cost of Goods Sold\n",
        "      - Total Operating Expenses\n",
        "      - Total Net Profit\n",
        "\n",
        "    The output should contain two parts:\n",
        "    - A human-readable report summary\n",
        "    - A clearly formatted financial summary table, ready to export to Excel\n",
        "\n",
        "    Use professional English.\n",
        "    \"\"\"\n",
        "    return prompt"
      ]
    },
    {
      "cell_type": "code",
      "execution_count": null,
      "id": "wJUSdRfAF9eG",
      "metadata": {
        "colab": {
          "base_uri": "https://localhost:8080/"
        },
        "id": "wJUSdRfAF9eG",
        "outputId": "88fcc283-83c7-4b4c-b683-a6cd9427574b"
      },
      "outputs": [
        {
          "name": "stdout",
          "output_type": "stream",
          "text": [
            "\n",
            "    You are a financial analyst. Below is a table of daily financial data:\n",
            "\n",
            "    Posting Date        Account Name                Description  Amount Department Code Project Code Related Party\n",
            "  2025-01-01                Cash  Customer payment received    5000             D01         P001    Customer A\n",
            "  2025-01-02 Accounts Receivable Invoice issued to customer    7000             D01         P001    Customer B\n",
            "  2025-01-02                Cash        Payment to supplier   -3000             D02         P002    Supplier X\n",
            "  2025-01-03                Cash   Petty cash replenishment   -1500             D03         P003    Employee T\n",
            "  2025-01-03 Accounts Receivable         Invoice correction   -1000             D01         P001    Customer B\n",
            "\n",
            "    Please:\n",
            "    1. Generate a **professional financial summary report** based on this data according to Vietnamese accounting standard Circular 200/2014/TT-BTC.\n",
            "    2. Include key sections in the report: Revenue, Costs, Profit, and meaningful comments.\n",
            "    3. Additionally, output a **clean and concise Excel-style table** (with headers) containing only the **main financial indicators**, such as:\n",
            "      - Total Revenue\n",
            "      - Total Cost of Goods Sold\n",
            "      - Total Operating Expenses\n",
            "      - Total Net Profit\n",
            "\n",
            "    The output should contain two parts:\n",
            "    - A human-readable report summary\n",
            "    - A clearly formatted financial summary table, ready to export to Excel\n",
            "\n",
            "    Use professional English.\n",
            "    \n"
          ]
        }
      ],
      "source": [
        "prompt = generate_prompt_from_df(df)\n",
        "print(prompt)"
      ]
    },
    {
      "cell_type": "code",
      "execution_count": null,
      "id": "Q8jV79AYGcc6",
      "metadata": {
        "id": "Q8jV79AYGcc6"
      },
      "outputs": [],
      "source": []
    },
    {
      "cell_type": "code",
      "execution_count": null,
      "id": "KonzyWQJGGSl",
      "metadata": {
        "colab": {
          "base_uri": "https://localhost:8080/"
        },
        "id": "KonzyWQJGGSl",
        "outputId": "43a56e61-5a9e-47c4-c1ae-f77d75c8962d"
      },
      "outputs": [
        {
          "name": "stdout",
          "output_type": "stream",
          "text": [
            "### Professional Financial Summary Report\n",
            "\n",
            "#### Report Date: January 2025\n",
            "\n",
            "#### Overview\n",
            "This report provides a financial summary for the period covering January 1 to January 3, 2025, prepared in accordance with the Vietnamese accounting standard Circular 200/2014/TT-BTC. The focus is on revenue, costs, and profit analysis, providing insights into the financial performance during this period.\n",
            "\n",
            "#### Financial Summary\n",
            "\n",
            "**Revenue:**\n",
            "- Total revenue generated from the issuance of invoices to customers amounted to VND 7,000. However, there was a subsequent invoice correction of VND 1,000. \n",
            "- Adjusted total revenue stands at VND 6,000.\n",
            "\n",
            "**Costs:**\n",
            "- The company incurred a payment of VND 3,000 to a supplier, which is considered as cost of goods sold.\n",
            "- Operating expenses include a petty cash replenishment of VND 1,500.\n",
            "\n",
            "**Profit Evaluation:**\n",
            "- **Net Revenue:** VND 6,000\n",
            "- **Cost of Goods Sold (COGS):** VND 3,000\n",
            "- **Operating Expenses:** VND 1,500\n",
            "- **Net Profit:** VND 1,500\n",
            "\n",
            "#### Comments\n",
            "- The company's revenue is generated from business activities relating to customers, whereas cash outflows relate to supplier payments and operating expenses.\n",
            "- A positive net profit of VND 1,500 indicates sound financial management.\n",
            "- Attention should be paid to adjusting invoices correctly to avoid discrepancies in revenue recording.\n",
            "- Future reports may benefit from detailed tracking of expenses to understand cost drivers better.\n",
            "\n",
            "---\n",
            "\n",
            "### Financial Summary Table\n",
            "\n",
            "| Financial Indicator         | Amount (VND) |\n",
            "|-----------------------------|--------------|\n",
            "| Total Revenue               | 6,000        |\n",
            "| Total Cost of Goods Sold    | 3,000        |\n",
            "| Total Operating Expenses    | 1,500        |\n",
            "| Total Net Profit            | 1,500        |\n",
            "\n",
            "This table is suitable for export to Excel, facilitating integration into broader financial analyses and reports.\n"
          ]
        }
      ],
      "source": [
        "## 5. Gọi GPT để sinh báo cáo\n",
        "response = client.chat.completions.create(\n",
        "    model=\"gpt-4o\",\n",
        "    messages=[\n",
        "        {\"role\": \"system\", \"content\": \"You are a financial analyst\"},\n",
        "        {\"role\": \"user\", \"content\": prompt}\n",
        "    ]\n",
        ")\n",
        "\n",
        "report_text = response.choices[0].message.content\n",
        "print(report_text)"
      ]
    },
    {
      "cell_type": "code",
      "execution_count": null,
      "id": "je_EsfhoJ2ko",
      "metadata": {
        "colab": {
          "base_uri": "https://localhost:8080/",
          "height": 17
        },
        "id": "je_EsfhoJ2ko",
        "outputId": "80506c97-9a2c-48a4-aa26-27082d05c1c0"
      },
      "outputs": [
        {
          "data": {
            "application/javascript": "\n    async function download(id, filename, size) {\n      if (!google.colab.kernel.accessAllowed) {\n        return;\n      }\n      const div = document.createElement('div');\n      const label = document.createElement('label');\n      label.textContent = `Downloading \"${filename}\": `;\n      div.appendChild(label);\n      const progress = document.createElement('progress');\n      progress.max = size;\n      div.appendChild(progress);\n      document.body.appendChild(div);\n\n      const buffers = [];\n      let downloaded = 0;\n\n      const channel = await google.colab.kernel.comms.open(id);\n      // Send a message to notify the kernel that we're ready.\n      channel.send({})\n\n      for await (const message of channel.messages) {\n        // Send a message to notify the kernel that we're ready.\n        channel.send({})\n        if (message.buffers) {\n          for (const buffer of message.buffers) {\n            buffers.push(buffer);\n            downloaded += buffer.byteLength;\n            progress.value = downloaded;\n          }\n        }\n      }\n      const blob = new Blob(buffers, {type: 'application/binary'});\n      const a = document.createElement('a');\n      a.href = window.URL.createObjectURL(blob);\n      a.download = filename;\n      div.appendChild(a);\n      a.click();\n      div.remove();\n    }\n  ",
            "text/plain": [
              "<IPython.core.display.Javascript object>"
            ]
          },
          "metadata": {},
          "output_type": "display_data"
        },
        {
          "data": {
            "application/javascript": "download(\"download_636d0cfd-64b3-4242-987e-950e37929a31\", \"financial_summary.xlsx\", 5072)",
            "text/plain": [
              "<IPython.core.display.Javascript object>"
            ]
          },
          "metadata": {},
          "output_type": "display_data"
        }
      ],
      "source": [
        "# 7. Trích bảng từ output GPT (đơn giản)\n",
        "import re\n",
        "lines = report_text.splitlines()\n",
        "table_lines = [l for l in lines if \"|\" in l and \"---\" not in l]\n",
        "\n",
        "# Bỏ dấu | đầu cuối rồi mới tách theo dấu |\n",
        "rows = [re.split(r\"\\s*\\|\\s*\", l.strip().strip('|')) for l in table_lines]\n",
        "\n",
        "if len(rows) > 1:\n",
        "    df_summary = pd.DataFrame(rows[1:], columns=rows[0])\n",
        "    df_summary.to_excel(\"financial_summary.xlsx\", index=False)\n",
        "    files.download(\"financial_summary.xlsx\")\n",
        "else:\n",
        "    print(\"⚠️ No summary table found.\")"
      ]
    },
    {
      "cell_type": "code",
      "execution_count": null,
      "id": "F2AZqQeoJ-Qz",
      "metadata": {
        "colab": {
          "base_uri": "https://localhost:8080/"
        },
        "id": "F2AZqQeoJ-Qz",
        "outputId": "334696fb-b365-4baf-c666-7fe728222f62"
      },
      "outputs": [
        {
          "name": "stdout",
          "output_type": "stream",
          "text": [
            "To calculate the Total Cost of Goods Sold (COGS) from the provided data, we need to identify and sum up all the costs directly associated with the production and delivery of goods sold by a company. These costs typically include raw materials, components, labor, and manufacturing overhead incurred in making the product.\n",
            "\n",
            "In the dataset you provided, you'll need to determine which transactions represent these types of costs. From the sample data you provided, it seems like transaction IDs and their descriptions vary but generally don't fully describe typical COGS transactions directly. However, we can make some assumptions:\n",
            "\n",
            "1. **Payment to suppliers**: This typically forms part of COGS if it is related to purchasing materials or components needed for production. The transaction on \"2025-01-02\" with the description \"Payment to supplier\" for the amount \"-3000\" likely relates to COGS because it involves a supplier payment.\n",
            "\n",
            "2. Other transactions: Cash transactions and accounts receivable entries generally relate to revenues, customer payments, or corrections and do not directly fall under COGS unless they specify a cost related directly to goods production or procurement.\n",
            "\n",
            "Based on the data you provided:\n",
            "\n",
            "- Total COGS = Sum of transactions that indicate direct costs of production or procurement from the supplier.\n",
            "- In this dataset, only the transaction on \"2025-01-02\" with \"-3000\" seems to fit that description.\n",
            "\n",
            "Therefore, based on the assumptions and data available, the Total COGS from the transactions you listed is 3000. \n",
            "\n",
            "Would you like me to assist with anything else related to this data?\n"
          ]
        }
      ],
      "source": [
        "prompt = f'How do you calculate Total Cost of Goods Sold from {df}'\n",
        "response = client.chat.completions.create(\n",
        "    model=\"gpt-4o\",\n",
        "    messages=[\n",
        "        {\"role\": \"system\", \"content\": \"You are a financial analyst\"},\n",
        "        {\"role\": \"user\", \"content\": prompt}\n",
        "    ]\n",
        ")\n",
        "\n",
        "report_text = response.choices[0].message.content\n",
        "print(report_text)"
      ]
    },
    {
      "cell_type": "markdown",
      "id": "v1XcRzqrUj9B",
      "metadata": {
        "id": "v1XcRzqrUj9B"
      },
      "source": [
        "1. Exact Match Accuracy (EMA) <br>\n",
        "Compares the entire extracted table from GPT with the ground truth. If every cell matches exactly, the prediction is considered 100% correct.\n",
        "```python\n",
        "\n",
        "accuracy = (df_output.equals(df_ground_truth))"
      ]
    },
    {
      "cell_type": "markdown",
      "id": "RZaHgHsRUrER",
      "metadata": {
        "id": "RZaHgHsRUrER"
      },
      "source": [
        "2. Cell-level Accuracy / Match Rate <br>\n",
        "Compares each individual cell in the predicted table against the corresponding cell in the reference table.\n",
        "```python\n",
        "\n",
        "total_cells = df_output.size\n",
        "matched_cells = (df_output.values == df_ground_truth.values).sum()\n",
        "cell_accuracy = matched_cells / total_cells"
      ]
    },
    {
      "cell_type": "markdown",
      "id": "vtofZFOYVKkT",
      "metadata": {
        "id": "vtofZFOYVKkT"
      },
      "source": [
        "3. Levenshtein Similarity / Fuzzy Matching\n",
        "Uses fuzzy string matching (via fuzzywuzzy or rapidfuzz) to allow small variations in values, such as punctuation or formatting differences.\n",
        "```python\n",
        "\n",
        "from rapidfuzz import fuzz\n",
        "fuzz.ratio(\"6,000\", \"6000\")  # ~95% similarity\n"
      ]
    },
    {
      "cell_type": "markdown",
      "id": "ae06ecd3",
      "metadata": {},
      "source": []
    }
  ],
  "metadata": {
    "accelerator": "GPU",
    "colab": {
      "gpuType": "T4",
      "provenance": []
    },
    "kernelspec": {
      "display_name": "Python 3",
      "name": "python3"
    },
    "language_info": {
      "name": "python"
    }
  },
  "nbformat": 4,
  "nbformat_minor": 5
}
